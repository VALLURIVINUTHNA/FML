{
  "nbformat": 4,
  "nbformat_minor": 0,
  "metadata": {
    "colab": {
      "provenance": [],
      "authorship_tag": "ABX9TyNt806IF2x7WsuLrtzBvBUB",
      "include_colab_link": true
    },
    "kernelspec": {
      "name": "python3",
      "display_name": "Python 3"
    },
    "language_info": {
      "name": "python"
    }
  },
  "cells": [
    {
      "cell_type": "markdown",
      "metadata": {
        "id": "view-in-github",
        "colab_type": "text"
      },
      "source": [
        "<a href=\"https://colab.research.google.com/github/VALLURIVINUTHNA/FML/blob/main/Noise.ipynb\" target=\"_parent\"><img src=\"https://colab.research.google.com/assets/colab-badge.svg\" alt=\"Open In Colab\"/></a>"
      ]
    },
    {
      "cell_type": "code",
      "execution_count": 40,
      "metadata": {
        "colab": {
          "base_uri": "https://localhost:8080/"
        },
        "id": "1eoPth9oEvbk",
        "outputId": "6da7ed6a-4e9b-44cb-c620-dbe75774324e"
      },
      "outputs": [
        {
          "output_type": "stream",
          "name": "stderr",
          "text": [
            "[nltk_data] Downloading package punkt to /root/nltk_data...\n",
            "[nltk_data]   Package punkt is already up-to-date!\n",
            "[nltk_data] Downloading package stopwords to /root/nltk_data...\n",
            "[nltk_data]   Package stopwords is already up-to-date!\n"
          ]
        }
      ],
      "source": [
        "import nltk\n",
        "import string\n",
        "nltk.download('punkt')\n",
        "nltk.download('stopwords')\n",
        "from nltk.corpus import stopwords\n",
        "from nltk import PorterStemmer\n",
        "from nltk.tokenize import word_tokenize,sent_tokenize\n",
        "sent=\"hello this is B.V.Raju college. are you studying there?\"\n",
        "def rem_pun(sent):\n",
        "  for i in sent:\n",
        "    if i in string.punctuation:\n",
        "      sent=sent.replace(i,\" \")\n",
        "  return sent\n",
        "\n",
        "def rem_sw(sent):\n",
        "  sw=set(stopwords.words('english'))\n",
        "  tokens=word_tokenize(sent)\n",
        "  string=[]\n",
        "  for i in tokens:\n",
        "    if i not in sw:\n",
        "      string.append(i)\n",
        "  return \" \".join(string)"
      ]
    },
    {
      "cell_type": "code",
      "source": [
        "print(f\"original sent :{sent}\")\n",
        "ex=rem_pun(sent)\n",
        "print(f'sent after removing punct :{rem_pun(sent)}')\n",
        "x=rem_sw(ex)\n",
        "print(f'sent after removing sw :{x}')"
      ],
      "metadata": {
        "colab": {
          "base_uri": "https://localhost:8080/"
        },
        "id": "kRK4woHSM5xo",
        "outputId": "ff9ee88e-8ade-4a15-e074-0e0f4a840fc4"
      },
      "execution_count": 39,
      "outputs": [
        {
          "output_type": "stream",
          "name": "stdout",
          "text": [
            "original sent :hello this is B.V.Raju college. are you studying there?\n",
            "sent after removing punct :hello this is B V Raju college  are you studying there \n",
            "sent after removing sw :hello B V Raju college studying\n"
          ]
        }
      ]
    },
    {
      "cell_type": "code",
      "source": [
        "text=\"It's important to note that the softmax function doesn't impose an upper limit on the output probabilities. In theory, a class probability can approach 1 as the corresponding input value becomes extremely large. However, in practice, when dealing with finite-precision numerical representations, the actual probabilities may be limited by the numerical precision of the computing system.\"\n",
        "words=text.split()\n",
        "print(words)\n",
        "print(len(words))"
      ],
      "metadata": {
        "colab": {
          "base_uri": "https://localhost:8080/"
        },
        "id": "bJqvxzMUfI1I",
        "outputId": "f1e94b34-2935-4621-96db-b671d5c58c17"
      },
      "execution_count": 42,
      "outputs": [
        {
          "output_type": "stream",
          "name": "stdout",
          "text": [
            "[\"It's\", 'important', 'to', 'note', 'that', 'the', 'softmax', 'function', \"doesn't\", 'impose', 'an', 'upper', 'limit', 'on', 'the', 'output', 'probabilities.', 'In', 'theory,', 'a', 'class', 'probability', 'can', 'approach', '1', 'as', 'the', 'corresponding', 'input', 'value', 'becomes', 'extremely', 'large.', 'However,', 'in', 'practice,', 'when', 'dealing', 'with', 'finite-precision', 'numerical', 'representations,', 'the', 'actual', 'probabilities', 'may', 'be', 'limited', 'by', 'the', 'numerical', 'precision', 'of', 'the', 'computing', 'system.']\n",
            "56\n"
          ]
        }
      ]
    },
    {
      "cell_type": "code",
      "source": [
        "sentence=text.split('.')\n",
        "print(sentence)\n",
        "print(len(sentence))"
      ],
      "metadata": {
        "colab": {
          "base_uri": "https://localhost:8080/"
        },
        "id": "kEJZhIcHfI3m",
        "outputId": "a76b80e5-2bfd-4ba0-f46d-dbc77a13fd02"
      },
      "execution_count": 44,
      "outputs": [
        {
          "output_type": "stream",
          "name": "stdout",
          "text": [
            "[\"It's important to note that the softmax function doesn't impose an upper limit on the output probabilities\", ' In theory, a class probability can approach 1 as the corresponding input value becomes extremely large', ' However, in practice, when dealing with finite-precision numerical representations, the actual probabilities may be limited by the numerical precision of the computing system', '']\n",
            "4\n"
          ]
        }
      ]
    },
    {
      "cell_type": "code",
      "source": [
        "words=word_tokenize(text)\n",
        "print(words)\n",
        "print(len(words))"
      ],
      "metadata": {
        "colab": {
          "base_uri": "https://localhost:8080/"
        },
        "id": "cCG2keBJfI7B",
        "outputId": "382fec8a-6739-449a-a2cb-8059ce7f5f74"
      },
      "execution_count": 45,
      "outputs": [
        {
          "output_type": "stream",
          "name": "stdout",
          "text": [
            "['It', \"'s\", 'important', 'to', 'note', 'that', 'the', 'softmax', 'function', 'does', \"n't\", 'impose', 'an', 'upper', 'limit', 'on', 'the', 'output', 'probabilities', '.', 'In', 'theory', ',', 'a', 'class', 'probability', 'can', 'approach', '1', 'as', 'the', 'corresponding', 'input', 'value', 'becomes', 'extremely', 'large', '.', 'However', ',', 'in', 'practice', ',', 'when', 'dealing', 'with', 'finite-precision', 'numerical', 'representations', ',', 'the', 'actual', 'probabilities', 'may', 'be', 'limited', 'by', 'the', 'numerical', 'precision', 'of', 'the', 'computing', 'system', '.']\n",
            "65\n"
          ]
        }
      ]
    },
    {
      "cell_type": "code",
      "source": [
        "sentence=sent_tokenize(text)\n",
        "print(sentence)\n",
        "print(len(sentence))"
      ],
      "metadata": {
        "colab": {
          "base_uri": "https://localhost:8080/"
        },
        "id": "qbCpvWidg0-K",
        "outputId": "2c144b9a-d8e3-4fc2-92f1-64a7c2e83c1d"
      },
      "execution_count": 46,
      "outputs": [
        {
          "output_type": "stream",
          "name": "stdout",
          "text": [
            "[\"It's important to note that the softmax function doesn't impose an upper limit on the output probabilities.\", 'In theory, a class probability can approach 1 as the corresponding input value becomes extremely large.', 'However, in practice, when dealing with finite-precision numerical representations, the actual probabilities may be limited by the numerical precision of the computing system.']\n",
            "3\n"
          ]
        }
      ]
    },
    {
      "cell_type": "code",
      "source": [
        "import re\n",
        "words=re.findall(\"[\\w']+\",text)\n",
        "print(words)\n",
        "print(len(words))"
      ],
      "metadata": {
        "colab": {
          "base_uri": "https://localhost:8080/"
        },
        "id": "IgCH9RAEg1Ag",
        "outputId": "379bc5e2-e5e8-4563-b104-3b8e9e7bb148"
      },
      "execution_count": 57,
      "outputs": [
        {
          "output_type": "stream",
          "name": "stdout",
          "text": [
            "[\"It's\", 'important', 'to', 'note', 'that', 'the', 'softmax', 'function', \"doesn't\", 'impose', 'an', 'upper', 'limit', 'on', 'the', 'output', 'probabilities', 'In', 'theory', 'a', 'class', 'probability', 'can', 'approach', '1', 'as', 'the', 'corresponding', 'input', 'value', 'becomes', 'extremely', 'large', 'However', 'in', 'practice', 'when', 'dealing', 'with', 'finite', 'precision', 'numerical', 'representations', 'the', 'actual', 'probabilities', 'may', 'be', 'limited', 'by', 'the', 'numerical', 'precision', 'of', 'the', 'computing', 'system']\n",
            "57\n"
          ]
        }
      ]
    },
    {
      "cell_type": "code",
      "source": [
        "sentence=re.compile('[.?!]').split(text)\n",
        "print(sentence)\n",
        "print(len(sentence))"
      ],
      "metadata": {
        "colab": {
          "base_uri": "https://localhost:8080/"
        },
        "id": "21Ek7BV-g1B3",
        "outputId": "33425476-def4-4b47-b6db-8908f0af27df"
      },
      "execution_count": 58,
      "outputs": [
        {
          "output_type": "stream",
          "name": "stdout",
          "text": [
            "[\"It's important to note that the softmax function doesn't impose an upper limit on the output probabilities\", ' In theory, a class probability can approach 1 as the corresponding input value becomes extremely large', ' However, in practice, when dealing with finite-precision numerical representations, the actual probabilities may be limited by the numerical precision of the computing system', '']\n",
            "4\n"
          ]
        }
      ]
    }
  ]
}